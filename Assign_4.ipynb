{
 "cells": [
  {
   "cell_type": "markdown",
   "metadata": {},
   "source": [
    "### 2.1 Write a Python program using function concept that maps list of words into a list of integers representing the lengths of the corresponding words.\n",
    "### Hint: If a list [ ab,cde,erty] is passed on to the python function output should come as [2,3,4]\n",
    "### Here 2,3 and 4 are the lengths of the words in the list."
   ]
  },
  {
   "cell_type": "code",
   "execution_count": 2,
   "metadata": {},
   "outputs": [
    {
     "data": {
      "text/plain": [
       "[5, 3, 2]"
      ]
     },
     "execution_count": 2,
     "metadata": {},
     "output_type": "execute_result"
    }
   ],
   "source": [
    "lst = [\"pawan\",\"Raj\",\"ok\"]\n",
    "out_lst = []\n",
    "def func(l):\n",
    "    for i in range(len(l)):\n",
    "        out_lst.append(len(l[i]))\n",
    "    return out_lst\n",
    "func(lst)"
   ]
  },
  {
   "cell_type": "markdown",
   "metadata": {},
   "source": [
    "### 2.2 Write a Python function which takes a character (i.e. a string of length 1) and returns True if it is a vowel, False otherwise."
   ]
  },
  {
   "cell_type": "code",
   "execution_count": 3,
   "metadata": {},
   "outputs": [
    {
     "data": {
      "text/plain": [
       "True"
      ]
     },
     "execution_count": 3,
     "metadata": {},
     "output_type": "execute_result"
    }
   ],
   "source": [
    "#Ans.\n",
    "vowels = \"aeiou\"\n",
    "def vowels_C(x):\n",
    "    if x in vowels:\n",
    "        return True\n",
    "    else:\n",
    "        return False\n",
    "vowels_C(\"i\")"
   ]
  },
  {
   "cell_type": "markdown",
   "metadata": {},
   "source": [
    "### 1.1 Write a Python Program(with class concepts) to find the area of the triangle using the below formula.\n",
    "### area = (s*(s-a)*(s-b)*(s-c)) ** 0.5\n",
    "### Function to take the length of the sides of triangle from user should be defined in the parent\n",
    "### class and function to calculate the area should be defined in subclass."
   ]
  },
  {
   "cell_type": "code",
   "execution_count": 10,
   "metadata": {},
   "outputs": [
    {
     "name": "stdout",
     "output_type": "stream",
     "text": [
      "Enter First Side of the Triangle: 45\n",
      "Enter Second Side of the Triangle: 50\n",
      "Enter Third Side of the Triangle: 30\n",
      "62.5\n",
      "The Area of Rectangle is: 666.5852814906732\n"
     ]
    }
   ],
   "source": [
    "#Ans1.\n",
    "import sys\n",
    "import math\n",
    "#a = int(input(\"Enter First Side of the Triangle: \"))\n",
    "#b = int(input(\"Enter Second Side of the Triangle: \"))\n",
    "#c = int(input(\"Enter Third Side of the Triangle: \"))\n",
    "class Base:\n",
    "    def __init__(self):\n",
    "        self.a = int(input(\"Enter First Side of the Triangle: \"))\n",
    "        self.b = int(input(\"Enter Second Side of the Triangle: \"))\n",
    "        self.c = int(input(\"Enter Third Side of the Triangle: \"))\n",
    "class Rectangle(Base):\n",
    "    def area(self):\n",
    "        s = (self.a+self.b+self.c)/2\n",
    "        print(s)\n",
    "        out = (s*(s-self.a)*(s-self.b)*(s-self.c))**0.5\n",
    "        return out\n",
    "rect = Rectangle()\n",
    "print(f\"The Area of Rectangle is: {rect.area()}\")"
   ]
  },
  {
   "cell_type": "code",
   "execution_count": 12,
   "metadata": {},
   "outputs": [
    {
     "name": "stdout",
     "output_type": "stream",
     "text": [
      "Enter First Side: 45\n",
      "Enter Second Side: 50\n",
      "Enter Third Side: 30\n"
     ]
    },
    {
     "data": {
      "text/plain": [
       "666.5852814906732"
      ]
     },
     "execution_count": 12,
     "metadata": {},
     "output_type": "execute_result"
    }
   ],
   "source": [
    "#Ans2\n",
    "class Base:\n",
    "    def __init__(self,a,b,c):\n",
    "        self.a = a \n",
    "        self.b = b\n",
    "        self.c = c\n",
    "    @classmethod    \n",
    "    def get_user_input(cls):\n",
    "        while 1:\n",
    "            try:\n",
    "                a = int(input(\"Enter First Side: \"))\n",
    "                b = int(input(\"Enter Second Side: \"))\n",
    "                c = int(input(\"Enter Third Side: \"))\n",
    "                return cls(a,b,c)\n",
    "            except:\n",
    "                print(\"Enter Valid Details\")\n",
    "                continue\n",
    "class Rectangle(Base):\n",
    "    def area_R(self):\n",
    "        s = (self.a+self.b+self.c)/2\n",
    "        #print(s)\n",
    "        arr = (s*(s-self.a)*(s-self.b)*(s-self.c))**0.5\n",
    "        return arr\n",
    "obj = Rectangle.get_user_input()\n",
    "obj.area_R()"
   ]
  },
  {
   "cell_type": "markdown",
   "metadata": {},
   "source": [
    "## 1.2 Write a function filter_long_words() that takes a list of words and an integer n and returns the list of words that are longer than n."
   ]
  },
  {
   "cell_type": "code",
   "execution_count": 15,
   "metadata": {},
   "outputs": [
    {
     "data": {
      "text/plain": [
       "['Beatiful', 'Pawan', 'Handsome', 'Shimla']"
      ]
     },
     "execution_count": 15,
     "metadata": {},
     "output_type": "execute_result"
    }
   ],
   "source": [
    "output = []\n",
    "def filter_long_words(lst,n):\n",
    "    for i in lst:\n",
    "        if len(i)>n:\n",
    "            output.append(i)\n",
    "    return output\n",
    "filter_long_words([\"Raj\",\"Beatiful\",\"ok\",\"Pawan\",\"kim\",\"Handsome\",\"Shimla\",\"city\"],4)"
   ]
  },
  {
   "cell_type": "code",
   "execution_count": null,
   "metadata": {},
   "outputs": [],
   "source": []
  }
 ],
 "metadata": {
  "kernelspec": {
   "display_name": "Python 3",
   "language": "python",
   "name": "python3"
  },
  "language_info": {
   "codemirror_mode": {
    "name": "ipython",
    "version": 3
   },
   "file_extension": ".py",
   "mimetype": "text/x-python",
   "name": "python",
   "nbconvert_exporter": "python",
   "pygments_lexer": "ipython3",
   "version": "3.7.6"
  }
 },
 "nbformat": 4,
 "nbformat_minor": 4
}
